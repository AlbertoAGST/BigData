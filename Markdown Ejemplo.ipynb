{
 "cells": [
  {
   "cell_type": "markdown",
   "id": "a039c579",
   "metadata": {
    "code_folding": []
   },
   "source": [
    "# Título (Heading 1)"
   ]
  },
  {
   "cell_type": "markdown",
   "id": "53ab5db0",
   "metadata": {},
   "source": [
    "## Subtítulo (Heading 2)"
   ]
  },
  {
   "cell_type": "markdown",
   "id": "7f14491b",
   "metadata": {},
   "source": [
    "### Sección (Heading 3)"
   ]
  },
  {
   "cell_type": "markdown",
   "id": "c9ea6d6d",
   "metadata": {},
   "source": [
    "##### Subsección"
   ]
  },
  {
   "cell_type": "markdown",
   "id": "d371189c",
   "metadata": {},
   "source": [
    "**Texto en negrita**"
   ]
  },
  {
   "cell_type": "markdown",
   "id": "c8863981",
   "metadata": {},
   "source": [
    "*Texto en cursiva*"
   ]
  },
  {
   "cell_type": "markdown",
   "id": "ea3d099d",
   "metadata": {},
   "source": [
    "`Formato para indicar código`\n"
   ]
  },
  {
   "cell_type": "markdown",
   "id": "b1119826",
   "metadata": {},
   "source": [
    "> blockquote"
   ]
  },
  {
   "cell_type": "markdown",
   "id": "71c54531",
   "metadata": {},
   "source": [
    "1. Primer Elemento\n",
    "2. Segundo Elemento\n",
    "3. Tercer Elemento"
   ]
  },
  {
   "cell_type": "markdown",
   "id": "a63ddf54",
   "metadata": {},
   "source": [
    "- Primer Elemento\n",
    "- Segundo Elemento\n",
    "- Tercer Elemento\n",
    "\n",
    "---\n",
    "\n",
    "- otra lista \n",
    "- etc"
   ]
  },
  {
   "cell_type": "markdown",
   "id": "91fd57c6",
   "metadata": {},
   "source": [
    "[Titulo del link](https://mexico.nissannews.com/es-MX/releases/la-evolucion-desde-nissan-skyline-hasta-nissan-gt-r)"
   ]
  },
  {
   "cell_type": "markdown",
   "id": "7993cccd",
   "metadata": {},
   "source": [
    "![alt text](https://i.seadn.io/gae/DEeP-8eJ2NK7gMfY7D6NdPRa1xwPBNX721GU3IQbFrBGG9BSOuUiF5Zp2tHj2MBDJb-y7QztbcQM_5jdAl--7cjWlXbtw82LqBCYpQ?auto=format&dpr=1&w=1000)"
   ]
  },
  {
   "cell_type": "code",
   "execution_count": null,
   "id": "b28e65cc",
   "metadata": {},
   "outputs": [],
   "source": []
  }
 ],
 "metadata": {
  "kernelspec": {
   "display_name": "Python 3 (ipykernel)",
   "language": "python",
   "name": "python3"
  },
  "language_info": {
   "codemirror_mode": {
    "name": "ipython",
    "version": 3
   },
   "file_extension": ".py",
   "mimetype": "text/x-python",
   "name": "python",
   "nbconvert_exporter": "python",
   "pygments_lexer": "ipython3",
   "version": "3.10.9"
  },
  "toc": {
   "base_numbering": 1,
   "nav_menu": {},
   "number_sections": true,
   "sideBar": true,
   "skip_h1_title": false,
   "title_cell": "Table of Contents",
   "title_sidebar": "Contents",
   "toc_cell": false,
   "toc_position": {
    "height": "calc(100% - 180px)",
    "left": "10px",
    "top": "150px",
    "width": "337px"
   },
   "toc_section_display": true,
   "toc_window_display": true
  }
 },
 "nbformat": 4,
 "nbformat_minor": 5
}
